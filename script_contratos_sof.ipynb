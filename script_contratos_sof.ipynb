{
 "cells": [
  {
   "cell_type": "code",
   "execution_count": 8,
   "id": "66f86a00-b06a-4d2b-979b-c0a740ab8ee3",
   "metadata": {},
   "outputs": [],
   "source": [
    "import requests\n",
    "from dotenv import load_dotenv\n",
    "import os"
   ]
  },
  {
   "cell_type": "code",
   "execution_count": 9,
   "id": "49ed0d20-5db7-487b-be5d-e3a8ea447056",
   "metadata": {},
   "outputs": [],
   "source": [
    "def get_token():\n",
    "    \n",
    "    load_dotenv()\n",
    "    try:\n",
    "        return os.environ['api_token']\n",
    "    except KeyError:\n",
    "        raise RuntimeError('Must have an api_token env variabel setted')"
   ]
  },
  {
   "cell_type": "code",
   "execution_count": 11,
   "id": "7de5ad02-e46a-4e75-ade9-df1052ae746c",
   "metadata": {},
   "outputs": [],
   "source": [
    "token = get_token()"
   ]
  },
  {
   "cell_type": "code",
   "execution_count": null,
   "id": "d3d1f9cd-dcec-40db-be44-ef6e798453bf",
   "metadata": {},
   "outputs": [],
   "source": []
  }
 ],
 "metadata": {
  "kernelspec": {
   "display_name": "Python 3 (ipykernel)",
   "language": "python",
   "name": "python3"
  },
  "language_info": {
   "codemirror_mode": {
    "name": "ipython",
    "version": 3
   },
   "file_extension": ".py",
   "mimetype": "text/x-python",
   "name": "python",
   "nbconvert_exporter": "python",
   "pygments_lexer": "ipython3",
   "version": "3.11.1"
  }
 },
 "nbformat": 4,
 "nbformat_minor": 5
}
